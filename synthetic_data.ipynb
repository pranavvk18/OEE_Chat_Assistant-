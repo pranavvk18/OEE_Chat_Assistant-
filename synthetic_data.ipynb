{
 "cells": [
  {
   "cell_type": "code",
   "execution_count": 1,
   "id": "1ad65e05",
   "metadata": {},
   "outputs": [
    {
     "name": "stdout",
     "output_type": "stream",
     "text": [
      "CSV file 'packaging_oee_data.csv' generated successfully.\n"
     ]
    }
   ],
   "source": [
    "import pandas as pd\n",
    "import random\n",
    "from datetime import datetime, timedelta\n",
    "\n",
    "# Parameters\n",
    "device_ids = ['PKG001', 'PKG002', 'PKG003', 'PKG004']\n",
    "locations = ['Plant A', 'Plant B']\n",
    "start_date = datetime(2024, 1, 1)\n",
    "end_date = datetime(2025, 12, 31)\n",
    "\n",
    "# Generate data\n",
    "data = []\n",
    "current_date = start_date\n",
    "\n",
    "while current_date <= end_date:\n",
    "    for device in device_ids:\n",
    "        location = random.choice(locations)\n",
    "\n",
    "        planned_time = random.randint(360, 480)  # minutes\n",
    "        operating_time = planned_time - random.randint(0, 60)  # some downtime\n",
    "\n",
    "        ideal_cycle_time = round(random.uniform(0.4, 0.8), 2)  # in seconds\n",
    "        total_count = int((operating_time * 60) / ideal_cycle_time)\n",
    "        good_count = int(total_count * random.uniform(0.85, 0.99))  # Quality variation\n",
    "\n",
    "        data.append({\n",
    "            \"Device ID\": device,\n",
    "            \"Timestamp\": current_date.strftime(\"%Y-%m-%d\"),\n",
    "            \"Location\": location,\n",
    "            \"Good Count\": good_count,\n",
    "            \"Total Count\": total_count,\n",
    "            \"Planned Time\": planned_time,  # in minutes\n",
    "            \"Operating Time\": operating_time,  # in minutes\n",
    "            \"Ideal Cycle Time\": ideal_cycle_time  # in seconds\n",
    "        })\n",
    "    current_date += timedelta(days=1)\n",
    "\n",
    "# Save to CSV\n",
    "df = pd.DataFrame(data)\n",
    "df.to_csv(\"packaging_oee_data.csv\", index=False)\n",
    "print(\"CSV file 'packaging_oee_data.csv' generated successfully.\")\n"
   ]
  },
  {
   "cell_type": "code",
   "execution_count": null,
   "id": "a99ea4a4",
   "metadata": {},
   "outputs": [],
   "source": []
  }
 ],
 "metadata": {
  "kernelspec": {
   "display_name": "tfenv",
   "language": "python",
   "name": "python3"
  },
  "language_info": {
   "codemirror_mode": {
    "name": "ipython",
    "version": 3
   },
   "file_extension": ".py",
   "mimetype": "text/x-python",
   "name": "python",
   "nbconvert_exporter": "python",
   "pygments_lexer": "ipython3",
   "version": "3.8.19"
  }
 },
 "nbformat": 4,
 "nbformat_minor": 5
}
